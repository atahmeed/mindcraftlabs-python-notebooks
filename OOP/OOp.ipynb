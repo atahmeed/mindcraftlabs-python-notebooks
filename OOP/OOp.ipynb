{
 "cells": [
  {
   "cell_type": "markdown",
   "metadata": {},
   "source": [
    "<h1><center>Object Oriented Programming</center></h1>"
   ]
  },
  {
   "cell_type": "markdown",
   "metadata": {},
   "source": [
    "One of the popular approaches to solve a programming problem is by creating objects. This is known as Object-Oriented Programming (OOP). In python anything and everything is an object. \n",
    "\n",
    "<img src=\"objectss.png\">\n",
    "<img src=\"pythonworld.png\">"
   ]
  },
  {
   "cell_type": "markdown",
   "metadata": {},
   "source": [
    "##### But some objects are of the same type. These objects are said to be created from the same \"class\"\n",
    "\n",
    "<img src=\"objectsofsameclass.png\">"
   ]
  },
  {
   "cell_type": "code",
   "execution_count": null,
   "metadata": {},
   "outputs": [],
   "source": [
    "a = 4.5    # a is an object\n",
    "b = 20.0   # b is an object\n",
    "print(type(a) , type(b))  # Lets print what class a & b belongs to"
   ]
  },
  {
   "cell_type": "markdown",
   "metadata": {},
   "source": [
    "##### So, what actually is a class? \n",
    "`A class is a blueprint to create many similar type of variables/objects`\n",
    "\n",
    "An example of a class is the class `Dog`. Don't think of it as a specific dog, or your own dog. We're describing what a dog is and can do, in general. Dogs usually have a `name` and `age`; these are instance attributes. Dogs can also bark; this is a method.\n",
    "\n",
    "When you talk about a specific dog, you would have an object in programming: an object is an instantiation of a class. This is the basic principle on which object-oriented programming is based. So my dog Ozzy, for example, belongs to the class Dog. His attributes are name = 'Ozzy' and age = '2'. A different dog will have different attributes."
   ]
  },
  {
   "cell_type": "markdown",
   "metadata": {},
   "source": [
    "## How to create a class\n",
    "To define a class in Python, you can use the class keyword, followed by the class name and a colon. "
   ]
  },
  {
   "cell_type": "code",
   "execution_count": null,
   "metadata": {},
   "outputs": [],
   "source": [
    "class Dog:\n",
    "    # Here we create the blueprint for all the dogs\n",
    "    pass"
   ]
  },
  {
   "cell_type": "markdown",
   "metadata": {},
   "source": [
    "## Did you know?\n",
    "\n",
    "you can create `int` or `float` variables like this:"
   ]
  },
  {
   "cell_type": "code",
   "execution_count": null,
   "metadata": {},
   "outputs": [],
   "source": [
    "## These variables/objects are instantiated with a default value\n",
    "a = int() # a is an int\n",
    "b = float() # b is a float\n",
    "name = str() # name is a string\n",
    "\n",
    "## These variables/objects are instantiated with the specified value\n",
    "x = int(11) # x is an int\n",
    "y = float(4.5) # y is a float\n",
    "z = str(\"Hello\") # z is a string"
   ]
  },
  {
   "cell_type": "markdown",
   "metadata": {},
   "source": [
    "We want to do something like this for our `Dog` class. \n",
    "For my dog Rocky we want to write `rocky = Dog()` or my friends dog `tommy=Dog(\"Tommy\",2)` with its name and age specified whil creating it. For this  Inside the class, an __init__ method has to be defined with def. This is the initializer that you can later use to instantiate objects. __init__ must always be present! It takes one argument: self, which refers to the object itself and other parameters we want pass to create an object of this class.  \n",
    "\n",
    "As we have talked earlier, every class has some attributes. For the Dog class we want each dog to be defined with its name and age. So, while creating a Dog, the parameters required must also be passed into the __init__ function."
   ]
  },
  {
   "cell_type": "code",
   "execution_count": null,
   "metadata": {},
   "outputs": [],
   "source": [
    "class Dog:\n",
    "    # Here we create the blueprint for all the dogs\n",
    "    def __init__(self,n,a):\n",
    "        self.name = n        # The name attribute is set to the passed value n\n",
    "        self.age = a         # The age attribute is set to the passed value a\n"
   ]
  },
  {
   "cell_type": "markdown",
   "metadata": {},
   "source": [
    "### now we can create a Dog!"
   ]
  },
  {
   "cell_type": "code",
   "execution_count": null,
   "metadata": {},
   "outputs": [],
   "source": [
    "tom = Dog(\"Tommy\",2)        # \"Tommy\" is saved as tom.name and 2 is saved as tom.age\n",
    "rocky = Dog(\"Rocky\",3)      # \"Rocky\" is saved as rocky.name and 2 is saved as rocky.age"
   ]
  },
  {
   "cell_type": "markdown",
   "metadata": {},
   "source": [
    "We can print individual attributes of an object."
   ]
  },
  {
   "cell_type": "code",
   "execution_count": null,
   "metadata": {},
   "outputs": [],
   "source": [
    "print(tom.name)\n",
    "\n",
    "print(rocky.age)"
   ]
  },
  {
   "cell_type": "markdown",
   "metadata": {},
   "source": [
    "#### But what if we print the dog itself like: `print(tom)`"
   ]
  },
  {
   "cell_type": "code",
   "execution_count": null,
   "metadata": {},
   "outputs": [],
   "source": [
    "print(tom)"
   ]
  },
  {
   "cell_type": "markdown",
   "metadata": {},
   "source": [
    "It shows some gibberish about the object. But we want some beautiful representation. For example, if we print a dog, it will say something beautiful about the dog, like: `Tommy Says woof woof`\n",
    "\n",
    "For this the class must have a __str__ function. This function/method helps to represent an object in the print function. \n",
    "This function also takes as parameter the object itslef as `self`."
   ]
  },
  {
   "cell_type": "code",
   "execution_count": null,
   "metadata": {},
   "outputs": [],
   "source": [
    "class Dog:\n",
    "    # Here we create the blueprint for all the dogs\n",
    "    def __init__(self,n,a):\n",
    "        self.name = n        # The name attribute is set to the passed value n\n",
    "        self.age = a         # The age attribute is set to the passed value a\n",
    "    \n",
    "    # Here we create __str__\n",
    "    \n",
    "    def __str__(self):\n",
    "        # we want to return the name in a sentence\n",
    "        \n",
    "        return self.name+\" says woof woof\" # So the name attribute of the dog object will be used"
   ]
  },
  {
   "cell_type": "code",
   "execution_count": null,
   "metadata": {},
   "outputs": [],
   "source": [
    "tom = Dog(\"Tommy\",2)\n",
    "rocky = Dog(\"Rocky\",3)\n",
    "\n",
    "print(tom)\n",
    "print(rocky)"
   ]
  },
  {
   "cell_type": "markdown",
   "metadata": {},
   "source": [
    "We can also create other methods in class."
   ]
  },
  {
   "cell_type": "code",
   "execution_count": null,
   "metadata": {},
   "outputs": [],
   "source": [
    "class Dog:\n",
    "\n",
    "    def __init__(self,n,a):\n",
    "        self.name = n      \n",
    "        self.age = a           \n",
    "     \n",
    "    def __str__(self):             \n",
    "        return \"This is \"+self.name\n",
    "    \n",
    "    def bark(self):\n",
    "        print(\"Bark Bark!\")\n",
    "        \n",
    "    def grow_up(self):\n",
    "        self.age = self.age+1"
   ]
  },
  {
   "cell_type": "code",
   "execution_count": null,
   "metadata": {},
   "outputs": [],
   "source": [
    "ghost = Dog(\"Ghost\",2)\n",
    "ghost.grow_up()\n",
    "\n",
    "print(ghost.age)\n",
    "\n",
    "ghost.bark()"
   ]
  },
  {
   "cell_type": "markdown",
   "metadata": {},
   "source": [
    "<center><h1>Your Turn! Don't worry, We will code together!</h1></center>"
   ]
  },
  {
   "cell_type": "markdown",
   "metadata": {},
   "source": [
    "Lets create a class called `Fraction` which will be used to represent fraction numbers like $\\frac{1}{2}$ or $\\frac{3}{4}$ or perform fractional arithemetic like: $\\frac{1}{2}+\\frac{3}{4} = \\frac{5}{4}$"
   ]
  },
  {
   "cell_type": "markdown",
   "metadata": {},
   "source": [
    "1. Lets create the class with name `Fraction` and create a instantiation function __init__. Fraction will require a numerator and a denominator for instantiation.\n",
    "2. Create a representation for your class in __str__. Lets represent a fraction $\\frac{a}{b}$ as `a/b` in our str\n",
    "3. Create a method called `getvalue()` which will return the float value of the fraction. Example: $\\frac{1}{2}=0.5$ \n",
    "4. Create a function which will return an inverse of the fraction. Note: This function will will return a `Fraction` object with the numerator and denomator interchanged."
   ]
  },
  {
   "cell_type": "code",
   "execution_count": null,
   "metadata": {},
   "outputs": [],
   "source": [
    "class ____ :\n",
    "    \n",
    "    # Task 1\n",
    "    def __init__(____):      # Pass in required parameters. Dont forget self\n",
    "        self.___=_____       # Set numerator attribute to passed value\n",
    "        self.___=_____       # Set denominator attribute to passed value\n",
    "        \n",
    "    # Task 2\n",
    "    def __str__(____):\n",
    "        return ____________\n",
    "    \n",
    "    # Task 3\n",
    "    def getvalue(____):\n",
    "        floatvalue = _____  # get the value by dividing the numerator by the denominator\n",
    "        return floatvalue\n",
    "    # Task 4\n",
    "    def inverse(____):\n",
    "        return Fraction(____,____)\n",
    "    "
   ]
  },
  {
   "cell_type": "markdown",
   "metadata": {},
   "source": [
    "5. Create the following fractions using your Class: $\\frac{1}{2}$ , $\\frac{3}{4}$ and test your functions"
   ]
  },
  {
   "cell_type": "code",
   "execution_count": null,
   "metadata": {},
   "outputs": [],
   "source": [
    "# Task 5\n",
    "# Create two fraction objects with the class you created \n",
    "frac1 = ________\n",
    "frac2 = ________\n",
    "\n",
    "# And print the fractions\n",
    "print(frac1)\n",
    "print(frac2)\n",
    "\n",
    "# Print the value of the fractions\n",
    "print(____)\n",
    "print(____)"
   ]
  },
  {
   "cell_type": "markdown",
   "metadata": {},
   "source": [
    "# Operator Overloading\n",
    "\n",
    "To perform mathematical and relational operation or our Fraction objects, we have to make the operators +, -, / etc. functional. It is done by operator overloading\n",
    "\n",
    "We have to create some special function for this. Look at the rightmost column. For example, if we want to make `+` functional, we have to create the `__add__` function/method under our class\n",
    "<table border=\"0\">\n",
    "\t\t<tbody>\n",
    "\t\t\t<tr>\n",
    "\t\t\t\t<th>Operator</th>\n",
    "\t\t\t\t<th>Expression</th>\n",
    "\t\t\t\t<th>Internally</th>\n",
    "\t\t\t</tr>\n",
    "\t\t\t<tr>\n",
    "\t\t\t\t<td>Addition</td>\n",
    "\t\t\t\t<td><code>p1 + p2</code></td>\n",
    "\t\t\t\t<td><code>p1.__add__(p2)</code></td>\n",
    "\t\t\t</tr>\n",
    "\t\t\t<tr>\n",
    "\t\t\t\t<td>Subtraction</td>\n",
    "\t\t\t\t<td><code>p1 - p2</code></td>\n",
    "\t\t\t\t<td><code>p1.__sub__(p2)</code></td>\n",
    "\t\t\t</tr>\n",
    "\t\t\t<tr>\n",
    "\t\t\t\t<td>Multiplication</td>\n",
    "\t\t\t\t<td><code>p1 * p2</code></td>\n",
    "\t\t\t\t<td><code>p1.__mul__(p2)</code></td>\n",
    "\t\t\t</tr>\n",
    "\t\t\t<tr>\n",
    "\t\t\t\t<td>Power</td>\n",
    "\t\t\t\t<td><code>p1 ** p2</code></td>\n",
    "\t\t\t\t<td><code>p1.__pow__(p2)</code></td>\n",
    "\t\t\t</tr>\n",
    "\t\t\t<tr>\n",
    "\t\t\t\t<td>Division</td>\n",
    "\t\t\t\t<td><code>p1 / p2</code></td>\n",
    "\t\t\t\t<td><code>p1.__truediv__(p2)</code></td>\n",
    "\t\t\t</tr>\n",
    "\t\t\t<tr>\n",
    "\t\t\t\t<td>Floor Division</td>\n",
    "\t\t\t\t<td><code>p1 // p2</code></td>\n",
    "\t\t\t\t<td><code>p1.__floordiv__(p2)</code></td>\n",
    "\t\t\t</tr>\n",
    "\t\t\t<tr>\n",
    "\t\t\t\t<td>Remainder (modulo)</td>\n",
    "\t\t\t\t<td><code>p1 % p2</code></td>\n",
    "\t\t\t\t<td><code>p1.__mod__(p2)</code></td>\n",
    "\t\t\t</tr>\n",
    "\t\t\t<tr>\n",
    "\t\t\t\t<td>Bitwise Left Shift</td>\n",
    "\t\t\t\t<td><code>p1 &lt;&lt; p2</code></td>\n",
    "\t\t\t\t<td><code>p1.__lshift__(p2)</code></td>\n",
    "\t\t\t</tr>\n",
    "\t\t\t<tr>\n",
    "\t\t\t\t<td>Bitwise Right Shift</td>\n",
    "\t\t\t\t<td><code>p1 &gt;&gt; p2</code></td>\n",
    "\t\t\t\t<td><code>p1.__rshift__(p2)</code></td>\n",
    "\t\t\t</tr>\n",
    "\t\t\t<tr>\n",
    "\t\t\t\t<td>Bitwise AND</td>\n",
    "\t\t\t\t<td><code>p1 &amp; p2</code></td>\n",
    "\t\t\t\t<td><code>p1.__and__(p2)</code></td>\n",
    "\t\t\t</tr>\n",
    "\t\t\t<tr>\n",
    "\t\t\t\t<td>Bitwise OR</td>\n",
    "\t\t\t\t<td><code>p1 | p2</code></td>\n",
    "\t\t\t\t<td><code>p1.__or__(p2)</code></td>\n",
    "\t\t\t</tr>\n",
    "\t\t\t<tr>\n",
    "\t\t\t\t<td>Bitwise XOR</td>\n",
    "\t\t\t\t<td><code>p1 ^ p2</code></td>\n",
    "\t\t\t\t<td><code>p1.__xor__(p2)</code></td>\n",
    "\t\t\t</tr>\n",
    "\t\t\t<tr>\n",
    "\t\t\t\t<td>Bitwise NOT</td>\n",
    "\t\t\t\t<td><code>~p1</code></td>\n",
    "\t\t\t\t<td><code>p1.__invert__()</code></td>\n",
    "\t\t\t</tr>\n",
    "\t\t</tbody>\n",
    "\t</table>"
   ]
  },
  {
   "cell_type": "markdown",
   "metadata": {},
   "source": [
    "Similarly to create relation operators, look at the following table:\n",
    "\n",
    "<table border=\"0\">\n",
    "\t\t<tbody>\n",
    "\t\t\t<tr>\n",
    "\t\t\t\t<th>Operator</th>\n",
    "\t\t\t\t<th>Expression</th>\n",
    "\t\t\t\t<th>Internally</th>\n",
    "\t\t\t</tr>\n",
    "\t\t\t<tr>\n",
    "\t\t\t\t<td>Less than</td>\n",
    "\t\t\t\t<td><code>p1 &lt; p2</code></td>\n",
    "\t\t\t\t<td><code>p1.__lt__(p2)</code></td>\n",
    "\t\t\t</tr>\n",
    "\t\t\t<tr>\n",
    "\t\t\t\t<td>Less than or equal to</td>\n",
    "\t\t\t\t<td><code>p1 &lt;= p2</code></td>\n",
    "\t\t\t\t<td><code>p1.__le__(p2)</code></td>\n",
    "\t\t\t</tr>\n",
    "\t\t\t<tr>\n",
    "\t\t\t\t<td>Equal to</td>\n",
    "\t\t\t\t<td><code>p1 == p2</code></td>\n",
    "\t\t\t\t<td><code>p1.__eq__(p2)</code></td>\n",
    "\t\t\t</tr>\n",
    "\t\t\t<tr>\n",
    "\t\t\t\t<td>Not equal to</td>\n",
    "\t\t\t\t<td><code>p1 != p2</code></td>\n",
    "\t\t\t\t<td><code>p1.__ne__(p2)</code></td>\n",
    "\t\t\t</tr>\n",
    "\t\t\t<tr>\n",
    "\t\t\t\t<td>Greater than</td>\n",
    "\t\t\t\t<td><code>p1 &gt; p2</code></td>\n",
    "\t\t\t\t<td><code>p1.__gt__(p2)</code></td>\n",
    "\t\t\t</tr>\n",
    "\t\t\t<tr>\n",
    "\t\t\t\t<td>Greater than or equal to</td>\n",
    "\t\t\t\t<td><code>p1 &gt;= p2</code></td>\n",
    "\t\t\t\t<td><code>p1.__ge__(p2)</code></td>\n",
    "\t\t\t</tr>\n",
    "\t\t</tbody>\n",
    "\t</table>"
   ]
  },
  {
   "cell_type": "markdown",
   "metadata": {},
   "source": [
    "6. Lets get our class from the previous block and create the following oprators: `+  -  *  >  < ==`"
   ]
  },
  {
   "cell_type": "code",
   "execution_count": null,
   "metadata": {},
   "outputs": [],
   "source": [
    "class ____ :\n",
    "    \n",
    "    ######################\n",
    "    # Copy task 1,2,3,4 from the previous cell\n",
    "    ######################\n",
    "    \n",
    "    \n",
    "    # Task 6\n",
    "    \n",
    "    # Create +\n",
    "    def __add__(self, anotherFraction):   # It will work like self + anotherFraction\n",
    "        \n",
    "        ## Code here\n",
    "        \n",
    "        return ______  # Note: return a fraction which is the sum of self and anotherFraction\n",
    "    \n",
    "    # Create -\n",
    "    def __sub__(self, anotherFraction):   # It will work like self - anotherFraction\n",
    "        \n",
    "        ## Code here\n",
    "        \n",
    "        return ______  # Note: return a fraction which is the difference of self and anotherFraction\n",
    "    \n",
    "    \n",
    "    # Similarly...\n",
    "    # Create *\n",
    "    def ___(___):\n",
    "        return ____\n",
    "    \n",
    "    # Create >\n",
    "    ___________\n",
    "    \n",
    "    # Create <\n",
    "    __________\n",
    "    \n",
    "    # Create ==\n",
    "    __________\n",
    "    \n",
    "    # Check the tables for reference"
   ]
  },
  {
   "cell_type": "markdown",
   "metadata": {},
   "source": [
    "7. Lets check the operators"
   ]
  },
  {
   "cell_type": "code",
   "execution_count": null,
   "metadata": {},
   "outputs": [],
   "source": [
    "a = Fraction(1,2)\n",
    "b = Fraction(3,4)\n",
    "\n",
    "print(a+b)  # Should return 5/4\n",
    "\n",
    "print(b-a)  # Should return 1/4\n",
    "\n",
    "print(a*b)  # Should return 3/8\n",
    "\n",
    "print(a>b)  # Should return False\n",
    "\n",
    "print(a<b)  # Should return True\n",
    "\n",
    "print(a==b) # Should return False"
   ]
  },
  {
   "cell_type": "markdown",
   "metadata": {},
   "source": [
    "\n",
    "## Congratulation!! You now know how to create a python class and work with it.\n",
    "\n",
    "Check the following site for reference:\n",
    "1. [Programiz](https://www.programiz.com/python-programming/object-oriented-programming)\n",
    "2. [W3schools](https://www.w3schools.com/python/python_classes.asp)\n",
    "3. [Geeks4geeks](https://www.geeksforgeeks.org/object-oriented-programming-in-python-set-1-class-and-its-members/)\n",
    "4. [TutorialsPoint](https://www.tutorialspoint.com/python/python_classes_objects.htm)"
   ]
  },
  {
   "cell_type": "code",
   "execution_count": null,
   "metadata": {},
   "outputs": [],
   "source": []
  }
 ],
 "metadata": {
  "kernelspec": {
   "display_name": "Python 3",
   "language": "python",
   "name": "python3"
  },
  "language_info": {
   "codemirror_mode": {
    "name": "ipython",
    "version": 3
   },
   "file_extension": ".py",
   "mimetype": "text/x-python",
   "name": "python",
   "nbconvert_exporter": "python",
   "pygments_lexer": "ipython3",
   "version": "3.7.4"
  }
 },
 "nbformat": 4,
 "nbformat_minor": 4
}
